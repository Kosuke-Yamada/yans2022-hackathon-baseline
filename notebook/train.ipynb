{
 "cells": [
  {
   "cell_type": "code",
   "execution_count": null,
   "metadata": {},
   "outputs": [],
   "source": [
    "import argparse\n",
    "import os\n",
    "\n",
    "import pytorch_lightning as pl\n",
    "\n",
    "from _my_lightning_modules import ReviewDataModule, ReviewRegressionNet"
   ]
  },
  {
   "cell_type": "code",
   "execution_count": null,
   "metadata": {},
   "outputs": [],
   "source": [
    "parser = argparse.ArgumentParser()\n",
    "parser.add_argument(\"--input_file\", type=str, required=True)\n",
    "parser.add_argument(\"--output_model_dir\", type=str, required=True)\n",
    "parser.add_argument(\"--output_csv_dir\", type=str, required=True)\n",
    "parser.add_argument(\"--output_mlruns_dir\", type=str, required=True)\n",
    "\n",
    "parser.add_argument(\"--experiment_name\", type=str, default=\"predict_helpful_votes\")\n",
    "parser.add_argument(\n",
    "    \"--run_name\", type=str, default=\"cl-tohoku_bert-base-japanese_lr1e-5\"\n",
    ")\n",
    "\n",
    "parser.add_argument(\n",
    "    \"--model_name\", type=str, default=\"cl-tohoku/bert-base-japanese\"\n",
    ")\n",
    "\n",
    "parser.add_argument(\"--batch_size\", type=int, default=16)\n",
    "\n",
    "parser.add_argument(\"--learning_rate\", type=float, default=1e-5)\n",
    "parser.add_argument(\"--max_epochs\", type=int, default=3)\n",
    "parser.add_argument(\"--gpus\", type=int, nargs=\"+\", default=[0])"
   ]
  },
  {
   "cell_type": "code",
   "execution_count": null,
   "metadata": {},
   "outputs": [],
   "source": [
    "args_list = [\"--input_file\", \"../data/preprocessing_shared/training.jsonl\", \\\n",
    "            \"--output_model_dir\", \"../data/train/model/\", \\\n",
    "            \"--output_csv_dir\",\"../data/train/csv/\", \\\n",
    "            \"--output_mlruns_dir\", \"../data/train/mlruns/\", \\\n",
    "            \"--max_epochs\", \"1\", \\\n",
    "            \"--gpus\", \"0\"\n",
    "            ]\n",
    "args = parser.parse_args(args_list)"
   ]
  },
  {
   "cell_type": "code",
   "execution_count": null,
   "metadata": {},
   "outputs": [],
   "source": [
    "if not os.path.isdir(args.output_model_dir):\n",
    "    os.makedirs(args.output_model_dir)\n",
    "if not os.path.isdir(args.output_csv_dir):\n",
    "    os.makedirs(args.output_csv_dir)\n",
    "if not os.path.isdir(args.output_mlruns_dir):\n",
    "    os.makedirs(args.output_mlruns_dir)"
   ]
  },
  {
   "cell_type": "code",
   "execution_count": null,
   "metadata": {},
   "outputs": [],
   "source": [
    "dm = ReviewDataModule(args)\n",
    "net = ReviewRegressionNet(args)\n",
    "\n",
    "output_model_dir = args.output_model_dir + args.experiment_name + \"/\""
   ]
  },
  {
   "cell_type": "code",
   "execution_count": null,
   "metadata": {},
   "outputs": [],
   "source": [
    "trainer = pl.Trainer(\n",
    "    gpus=args.gpus,\n",
    "    max_epochs=args.max_epochs,\n",
    "    callbacks=[\n",
    "        pl.callbacks.EarlyStopping(monitor=\"val_rmse\", patience=3, mode=\"min\"),\n",
    "        pl.callbacks.ModelCheckpoint(\n",
    "            dirpath=output_model_dir,\n",
    "            filename=args.run_name,\n",
    "            verbose=True,\n",
    "            monitor=\"val_rmse\",\n",
    "            mode=\"min\",\n",
    "            save_top_k=1,\n",
    "        ),\n",
    "    ],\n",
    "    logger=[\n",
    "        pl.loggers.csv_logs.CSVLogger(\n",
    "            save_dir=args.output_csv_dir,\n",
    "            name=args.experiment_name,\n",
    "            version=args.run_name,\n",
    "        ),\n",
    "        pl.loggers.mlflow.MLFlowLogger(\n",
    "            tracking_uri=args.output_mlruns_dir,\n",
    "            experiment_name=args.experiment_name,\n",
    "            run_name=args.run_name,\n",
    "        ),\n",
    "    ],\n",
    ")\n",
    "trainer.fit(net, dm)"
   ]
  }
 ],
 "metadata": {
  "kernelspec": {
   "display_name": "Python 3.9.12 ('yans2022')",
   "language": "python",
   "name": "python3"
  },
  "language_info": {
   "codemirror_mode": {
    "name": "ipython",
    "version": 3
   },
   "file_extension": ".py",
   "mimetype": "text/x-python",
   "name": "python",
   "nbconvert_exporter": "python",
   "pygments_lexer": "ipython3",
   "version": "3.9.12"
  },
  "orig_nbformat": 4,
  "vscode": {
   "interpreter": {
    "hash": "60bc8e6a080301f68f145aa2d4ce6eacb9f122f704035ed4e5e80f593963d0f8"
   }
  }
 },
 "nbformat": 4,
 "nbformat_minor": 2
}
