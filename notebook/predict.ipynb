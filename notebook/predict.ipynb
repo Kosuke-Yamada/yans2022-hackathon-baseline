{
 "cells": [
  {
   "cell_type": "code",
   "execution_count": null,
   "metadata": {},
   "outputs": [],
   "source": [
    "import argparse\n",
    "import os\n",
    "\n",
    "import numpy as np\n",
    "import pandas as pd\n",
    "import pytorch_lightning as pl\n",
    "\n",
    "from _my_lightning_modules import ReviewDataModule, ReviewRegressionNet"
   ]
  },
  {
   "cell_type": "code",
   "execution_count": null,
   "metadata": {},
   "outputs": [],
   "source": [
    "parser = argparse.ArgumentParser()\n",
    "parser.add_argument(\"--input_file\", type=str, required=True)\n",
    "parser.add_argument(\"--output_dir\", type=str, required=True)\n",
    "parser.add_argument(\"--ckpt_file\", type=str)\n",
    "\n",
    "parser.add_argument(\n",
    "    \"--model_name\", type=str, default=\"cl-tohoku/bert-base-japanese\"\n",
    ")\n",
    "parser.add_argument(\"--batch_size\", type=int, default=16)\n",
    "parser.add_argument(\"--gpu\", type=int, default=0)\n",
    "\n",
    "EXPERIMENT_NAME=\"predict_helpful_votes\"\n",
    "RUN_NAME=\"cl-tohoku_bert-base-japanese_lr1e-5\"\n",
    "\n",
    "args_list = [\"--input_file\", \"../data/preprocessing_shared/training-val.jsonl\", \\\n",
    "            \"--output_dir\", \"../data/predict/\"+EXPERIMENT_NAME+\"/\"+RUN_NAME+\"/\", \\\n",
    "            \"--ckpt_file\", \"../data/train/model/\"+EXPERIMENT_NAME+\"/\"+RUN_NAME+\".ckpt\"]\n",
    "# args_list = [\"--input_file\", \"../data/dataset_shared_initial/leader_board.jsonl\", \\\n",
    "#             \"--output_dir\", \"../data/predict/\"+EXPERIMENT_NAME+\"/\"+RUN_NAME+\"/\", \\\n",
    "#             \"--ckpt_file\", \"../data/train/model/\"+EXPERIMENT_NAME+\"/\"+RUN_NAME+\".ckpt\"]\n",
    "# args_list = [\"--input_file\", \"../data/dataset_shared/final_result.jsonl\", \\\n",
    "#             \"--output_dir\", \"../data/predict/\"+EXPERIMENT_NAME+\"/\"+RUN_NAME+\"/\", \\\n",
    "#             \"--ckpt_file\", \"../data/train/model/\"+EXPERIMENT_NAME+\"/\"+RUN_NAME+\".ckpt\"]\n",
    "args = parser.parse_args(args_list)"
   ]
  },
  {
   "cell_type": "code",
   "execution_count": null,
   "metadata": {},
   "outputs": [],
   "source": [
    "if not os.path.isdir(args.output_dir):\n",
    "    os.makedirs(args.output_dir)"
   ]
  },
  {
   "cell_type": "code",
   "execution_count": null,
   "metadata": {},
   "outputs": [],
   "source": [
    "dm = ReviewDataModule(args)\n",
    "net = ReviewRegressionNet(args)\n",
    "trainer = pl.Trainer(gpus=[args.gpu], logger=False)"
   ]
  },
  {
   "cell_type": "code",
   "execution_count": null,
   "metadata": {},
   "outputs": [],
   "source": [
    "if args.ckpt_file is None:\n",
    "    pred = trainer.predict(net, dm)\n",
    "else:\n",
    "    pred = trainer.predict(net, dm, ckpt_path=args.ckpt_file)"
   ]
  },
  {
   "cell_type": "code",
   "execution_count": null,
   "metadata": {},
   "outputs": [],
   "source": [
    "df = pd.read_json(args.input_file, orient=\"records\", lines=True)\n",
    "df.loc[:, \"pred\"] = sum([list(p.numpy().flatten()) for p in pred], [])\n",
    "df.loc[:, \"pred_helpful_votes\"] = df[\"pred\"].apply(lambda x: np.exp(x) - 1)\n",
    "\n",
    "output_file = args.output_dir + args.input_file.split(\"/\")[-1]\n",
    "df.to_json(output_file, orient=\"records\", force_ascii=False, lines=True)"
   ]
  },
  {
   "cell_type": "code",
   "execution_count": null,
   "metadata": {},
   "outputs": [],
   "source": []
  }
 ],
 "metadata": {
  "kernelspec": {
   "display_name": "Python 3.9.12 ('yans2022')",
   "language": "python",
   "name": "python3"
  },
  "language_info": {
   "codemirror_mode": {
    "name": "ipython",
    "version": 3
   },
   "file_extension": ".py",
   "mimetype": "text/x-python",
   "name": "python",
   "nbconvert_exporter": "python",
   "pygments_lexer": "ipython3",
   "version": "3.9.12"
  },
  "orig_nbformat": 4,
  "vscode": {
   "interpreter": {
    "hash": "60bc8e6a080301f68f145aa2d4ce6eacb9f122f704035ed4e5e80f593963d0f8"
   }
  }
 },
 "nbformat": 4,
 "nbformat_minor": 2
}
